{
 "cells": [
  {
   "cell_type": "markdown",
   "id": "8b71ebbc",
   "metadata": {},
   "source": [
    "# QOSF Cohort 8 - Screening Task\n",
    "\n",
    "# Task 2- Finding Negative Values\n",
    "\n",
    "## About The Task\n",
    "\n",
    "In this task, we aim to identify negative values in a list of integer numbers using quantum computing. The goal is to determine whether any negative numbers exist within the given list.\n",
    "\n",
    "## Problem Statement\n",
    "\n",
    "Given a list of integer numbers, our objective is to search for the presence of any negative numbers within the list. We will design a quantum algorithm to perform this task efficiently. \n",
    "\n",
    "## Code Implementation\n",
    "\n",
    "```python\n",
    "def find_negative_numbers(list_number):\n",
    "    \"\"\"\n",
    "    Detects the presence of negative numbers in a given list of integers.\n",
    "    \n",
    "    Args:\n",
    "        list_number (List[int]): A list of integer values.\n",
    "        \n",
    "    Returns:\n",
    "        bool: True if at least one negative number is found, False otherwise.\n",
    "    \"\"\"\n",
    "    \n",
    "    # Utilize a quantum circuit framework such as Qiskit, Cirq, or Pennylane.\n",
    "    \n",
    "    # Consider documenting your quantum circuit here.\n",
    "    \n",
    "    # ... (Quantum circuit implementation)\n",
    "    \n",
    "    # Return True if a negative number is detected, otherwise return False.\n",
    "```\n",
    "\n",
    "The code utilizes a quantum circuit to identify negative numbers within a given list. The quantum circuit operates as follows:\n",
    "\n",
    "1. For each number in the list, a qubit is created.\n",
    "2. All qubits are placed in a superposition state.\n",
    "3. For each number in the list, if the number is negative, a Z gate is applied to the corresponding qubit.\n",
    "4. All qubits are returned to a superposition state.\n",
    "5. The qubits are measured.\n",
    "6. If all measurement results are 0, there are no negative numbers in the list. Otherwise, there is at least one negative number in the list.\n",
    "\n",
    "## Correctness\n",
    "\n",
    "The quantum circuit's correctness is based on the properties of the Z gate:\n",
    "\n",
    "- Z |0⟩ = |1⟩\n",
    "- Z |1⟩ = |0⟩\n",
    "\n",
    "This implies that the Z gate flips the state of a qubit.\n",
    "\n",
    "In the quantum circuit, a Z gate is applied to a qubit if the corresponding number in the list is negative. This means that if there is at least one negative number in the list, then at least one qubit will be flipped after the Z gates are applied.\n",
    "\n",
    "When we measure the qubits, we will obtain at least one measurement result of 1 if there is at least one negative number in the list. Otherwise, we will receive all measurement results as 0.\n",
    "\n",
    "Therefore, the quantum circuit accurately identifies whether there is a negative number in the list.\n",
    "\n",
    "## Validity for All Kinds of Numbers\n",
    "\n",
    "The quantum circuit is valid for all types of numbers because the Z gate's behavior is independent of the value of the number. The Z gate simply flips the state of the qubit, regardless of the numerical value.\n",
    "\n",
    "Hence, the quantum circuit can be employed to identify negative numbers in a list containing any kind of numbers, including integers, floating-point numbers, and complex numbers.\n"
   ]
  },
  {
   "cell_type": "markdown",
   "id": "4ce11b57",
   "metadata": {},
   "source": [
    "## Code"
   ]
  },
  {
   "cell_type": "code",
   "execution_count": 5,
   "id": "af7cedfa",
   "metadata": {},
   "outputs": [],
   "source": [
    "#*****************************\n",
    "# Import necessary libraries\n",
    "#*****************************\n",
    "from qiskit import QuantumCircuit, QuantumRegister, ClassicalRegister, execute, Aer\n",
    "from qiskit.visualization import plot_histogram\n",
    "\n",
    "#************************************\n",
    "# Function to find negative numbers\n",
    "#************************************\n",
    "def find_negative_numbers(list_number):\n",
    "    # Determine the number of qubits required based on the list size\n",
    "    n_qubits = len(list_number)\n",
    "    \n",
    "    # Create quantum registers for qubits and classical registers for measurement results\n",
    "    qr = QuantumRegister(n_qubits, name=\"q\")\n",
    "    cr = ClassicalRegister(n_qubits, name=\"c\")\n",
    "    qc = QuantumCircuit(qr, cr)\n",
    "\n",
    "    # Step 1: Apply Hadamard gates and conditional Z-gates for each qubit\n",
    "    for i in range(n_qubits):\n",
    "        # Step 2: Apply a Hadamard gate to prepare the qubit in superposition\n",
    "        qc.h(qr[i])\n",
    "        if list_number[i] < 0:\n",
    "            # Step 3: If the number is negative, apply a Z gate to flip the qubit\n",
    "            qc.z(qr[i])\n",
    "\n",
    "     # Step 4: Apply Hadamard gates again\n",
    "    for i in range(n_qubits):\n",
    "        qc.h(qr[i])\n",
    "\n",
    "    # Step 5: Measure the qubits\n",
    "    for i in range(n_qubits):\n",
    "        qc.measure(qr[i], cr[i])\n",
    "\n",
    "    # Execute the quantum circuit using a quantum simulator\n",
    "    simulator = Aer.get_backend('qasm_simulator')\n",
    "    result = execute(qc, simulator, shots=1).result()\n",
    "    counts = result.get_counts()\n",
    "\n",
    "    # Step 6: Check if all measurement outcomes are '0', indicating no negative numbers\n",
    "    for key in counts:\n",
    "        if all(bit == '0' for bit in key):\n",
    "            return False\n",
    "            \n",
    "    # If any measurement outcome is '1', at least one negative number was found\n",
    "    return True"
   ]
  },
  {
   "cell_type": "markdown",
   "id": "e29664eb",
   "metadata": {},
   "source": [
    "## Examples - Provided"
   ]
  },
  {
   "cell_type": "code",
   "execution_count": 6,
   "id": "9974da74",
   "metadata": {},
   "outputs": [
    {
     "name": "stdout",
     "output_type": "stream",
     "text": [
      "True\n",
      "False\n",
      "True\n"
     ]
    }
   ],
   "source": [
    "A = find_negative_numbers([1, 3, 2, -15])\n",
    "print(A)  # Output: True\n",
    "\n",
    "B = find_negative_numbers([1, 4, 8, 11])\n",
    "print(B)  # Output: False\n",
    "\n",
    "C = find_negative_numbers([-15, -14, 2, -1])\n",
    "print(C)  # Output: True"
   ]
  },
  {
   "cell_type": "markdown",
   "id": "3c89c4d1",
   "metadata": {},
   "source": [
    "## More Examples"
   ]
  },
  {
   "cell_type": "code",
   "execution_count": 7,
   "id": "34badb6b",
   "metadata": {},
   "outputs": [
    {
     "name": "stdout",
     "output_type": "stream",
     "text": [
      "True\n",
      "False\n",
      "True\n",
      "False\n"
     ]
    }
   ],
   "source": [
    "D = find_negative_numbers([-5, 8, -3, 0, 10])\n",
    "print(D)  # Output: True\n",
    "\n",
    "E = find_negative_numbers([4, 7, 1, 12, 0])\n",
    "print(E)  # Output: False\n",
    "\n",
    "F = find_negative_numbers([0, -2, -4, -6, -8])\n",
    "print(F)  # Output: True\n",
    "\n",
    "G = find_negative_numbers([1, 2, 3, 4, 5])\n",
    "print(G)  # Output: False"
   ]
  }
 ],
 "metadata": {
  "kernelspec": {
   "display_name": "Python 3",
   "language": "python",
   "name": "python3"
  },
  "language_info": {
   "codemirror_mode": {
    "name": "ipython",
    "version": 3
   },
   "file_extension": ".py",
   "mimetype": "text/x-python",
   "name": "python",
   "nbconvert_exporter": "python",
   "pygments_lexer": "ipython3",
   "version": "3.8.8"
  }
 },
 "nbformat": 4,
 "nbformat_minor": 5
}
